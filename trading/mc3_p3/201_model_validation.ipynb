{
 "cells": [
  {
   "cell_type": "markdown",
   "metadata": {},
   "source": [
    "## Evaluate Strategy Learner"
   ]
  },
  {
   "cell_type": "code",
   "execution_count": 1,
   "metadata": {
    "collapsed": false
   },
   "outputs": [],
   "source": [
    "import warnings\n",
    "warnings.filterwarnings('ignore')\n",
    "\n",
    "import pandas as pd\n",
    "import datetime as dt\n",
    "import util as ut\n",
    "import StrategyLearner as sl\n",
    "import matplotlib.pyplot as plt\n",
    "import numpy as np\n",
    "import QLearner as ql\n",
    "\n",
    "import teststrategy\n",
    "\n",
    "# Pretty display for notebooks\n",
    "%matplotlib inline"
   ]
  },
  {
   "cell_type": "code",
   "execution_count": null,
   "metadata": {
    "collapsed": true
   },
   "outputs": [],
   "source": [
    "Run simulaions on different inputs\n"
   ]
  },
  {
   "cell_type": "code",
   "execution_count": 2,
   "metadata": {
    "collapsed": false
   },
   "outputs": [
    {
     "name": "stdout",
     "output_type": "stream",
     "text": [
      "simulation: 0\n",
      "Inputs: IBM 2003-12-31 00:00:00 2005-12-31 00:00:00 2005-12-31 00:00:00 2007-12-31 00:00:00\n",
      "result (train_return, train_benchmark, test_return, test_benchmark): (0.75982959299999686, -0.070294070000000097, 0.12762818800000189, 0.22895438999999995)\n",
      "simulation: 1\n",
      "Inputs: IBM 2005-12-31 00:00:00 2007-12-31 00:00:00 2007-12-31 00:00:00 2009-12-31 00:00:00\n",
      "result (train_return, train_benchmark, test_return, test_benchmark): (1.0742375139999982, 0.22895438999999995, 0.44271044600000203, 0.22490852000000006)\n",
      "simulation: 2\n",
      "Inputs: IBM 2007-12-31 00:00:00 2009-12-31 00:00:00 2009-12-31 00:00:00 2011-12-31 00:00:00\n",
      "result (train_return, train_benchmark, test_return, test_benchmark): (1.7306052130000023, 0.22490852000000006, 0.39549939000000067, 0.50186876999999996)\n",
      "simulation: 3\n",
      "Inputs: IBM 2009-12-31 00:00:00 2011-12-31 00:00:00 2011-12-31 00:00:00 2013-12-31 00:00:00\n",
      "result (train_return, train_benchmark, test_return, test_benchmark): (2.0680628910000021, 0.50186876999999996, 0.17241428000000072, 0.070858029999999905)\n",
      "simulation: 4\n",
      "Inputs: IBM 2011-12-31 00:00:00 2013-12-31 00:00:00 2013-12-31 00:00:00 2015-12-31 00:00:00\n",
      "result (train_return, train_benchmark, test_return, test_benchmark): (2.153252892999999, 0.070858029999999905, -0.366952843999999, -0.37955070999999974)\n",
      "simulation: 5\n",
      "Inputs: SPY 2003-12-31 00:00:00 2005-12-31 00:00:00 2005-12-31 00:00:00 2007-12-31 00:00:00\n",
      "result (train_return, train_benchmark, test_return, test_benchmark): (0.70992458400000236, 0.13666007999999996, 0.018739896000001234, 0.19817671999999975)\n",
      "simulation: 6\n",
      "Inputs: SPY 2005-12-31 00:00:00 2007-12-31 00:00:00 2007-12-31 00:00:00 2009-12-31 00:00:00\n",
      "result (train_return, train_benchmark, test_return, test_benchmark): (1.1111702960000027, 0.19817671999999975, 0.64305986699999707, -0.24249288000000002)\n",
      "simulation: 7\n",
      "Inputs: SPY 2007-12-31 00:00:00 2009-12-31 00:00:00 2009-12-31 00:00:00 2011-12-31 00:00:00\n",
      "result (train_return, train_benchmark, test_return, test_benchmark): (1.9554630630000012, -0.24249288000000002, 0.057251311999999423, 0.16574237000000003)\n",
      "simulation: 8\n",
      "Inputs: SPY 2009-12-31 00:00:00 2011-12-31 00:00:00 2011-12-31 00:00:00 2013-12-31 00:00:00\n",
      "result (train_return, train_benchmark, test_return, test_benchmark): (1.4061422250000029, 0.16574237000000003, 0.10213229900000047, 0.5847494000000002)\n",
      "simulation: 9\n",
      "Inputs: SPY 2011-12-31 00:00:00 2013-12-31 00:00:00 2013-12-31 00:00:00 2015-12-31 00:00:00\n",
      "result (train_return, train_benchmark, test_return, test_benchmark): (1.1164446499999987, 0.5847494000000002, 0.66870461700000061, 0.25715754999999962)\n",
      "simulation: 10\n",
      "Inputs: GOOG 2005-12-31 00:00:00 2007-12-31 00:00:00 2007-12-31 00:00:00 2009-12-31 00:00:00\n",
      "result (train_return, train_benchmark, test_return, test_benchmark): (4.3049371359999995, 1.2799721800000001, 0.87337362899999782, -0.35714332000000015)\n",
      "simulation: 11\n",
      "Inputs: GOOG 2007-12-31 00:00:00 2009-12-31 00:00:00 2009-12-31 00:00:00 2011-12-31 00:00:00\n",
      "result (train_return, train_benchmark, test_return, test_benchmark): (5.6654799010000065, -0.35714332000000015, -0.31042445200000629, 0.1294706200000002)\n",
      "simulation: 12\n",
      "Inputs: GOOG 2009-12-31 00:00:00 2011-12-31 00:00:00 2011-12-31 00:00:00 2016-12-31 00:00:00\n",
      "result (train_return, train_benchmark, test_return, test_benchmark): (4.486934843000002, 0.1294706200000002, -0.59435396700000864, 4.3944682100000003)\n"
     ]
    }
   ],
   "source": [
    "log_simulations = dict()\n",
    "\n",
    "symbol_set = [\"IBM\", \\\n",
    "        \"IBM\",\\\n",
    "        \"IBM\",\\\n",
    "        \"IBM\",\\\n",
    "        \"IBM\",\\\n",
    "        \"SPY\",\\\n",
    "        \"SPY\",\\\n",
    "        \"SPY\",\\\n",
    "        \"SPY\",\\\n",
    "        \"SPY\",\\\n",
    "        \"GOOG\",\\\n",
    "        \"GOOG\",\\\n",
    "        \"GOOG\"]\n",
    "\n",
    "sd_train_set = [dt.datetime(2003,12,31), \\\n",
    "        dt.datetime(2005,12,31), \\\n",
    "        dt.datetime(2007,12,31), \\\n",
    "        dt.datetime(2009,12,31), \\\n",
    "        dt.datetime(2011,12,31), \\\n",
    "        dt.datetime(2003,12,31), \\\n",
    "        dt.datetime(2005,12,31), \\\n",
    "        dt.datetime(2007,12,31), \\\n",
    "        dt.datetime(2009,12,31), \\\n",
    "        dt.datetime(2011,12,31), \\\n",
    "        dt.datetime(2005,12,31), \\\n",
    "        dt.datetime(2007,12,31), \\\n",
    "        dt.datetime(2009,12,31)]\n",
    "\n",
    "ed_train_set = [dt.datetime(2005,12,31), \\\n",
    "        dt.datetime(2007,12,31), \\\n",
    "        dt.datetime(2009,12,31), \\\n",
    "        dt.datetime(2011,12,31), \\\n",
    "        dt.datetime(2013,12,31), \\\n",
    "        dt.datetime(2005,12,31), \\\n",
    "        dt.datetime(2007,12,31), \\\n",
    "        dt.datetime(2009,12,31), \\\n",
    "        dt.datetime(2011,12,31), \\\n",
    "        dt.datetime(2013,12,31), \\\n",
    "        dt.datetime(2007,12,31), \\\n",
    "        dt.datetime(2009,12,31),\\\n",
    "        dt.datetime(2011,12,31)]\n",
    "\n",
    "sd_test_set = [dt.datetime(2005,12,31), \\\n",
    "        dt.datetime(2007,12,31), \\\n",
    "        dt.datetime(2009,12,31), \\\n",
    "        dt.datetime(2011,12,31), \\\n",
    "        dt.datetime(2013,12,31), \\\n",
    "        dt.datetime(2005,12,31), \\\n",
    "        dt.datetime(2007,12,31), \\\n",
    "        dt.datetime(2009,12,31), \\\n",
    "        dt.datetime(2011,12,31), \\\n",
    "        dt.datetime(2013,12,31), \\\n",
    "        dt.datetime(2007,12,31), \\\n",
    "        dt.datetime(2009,12,31),\\\n",
    "        dt.datetime(2011,12,31)]\n",
    "\n",
    "ed_test_set = [dt.datetime(2007,12,31), \\\n",
    "        dt.datetime(2009,12,31), \\\n",
    "        dt.datetime(2011,12,31), \\\n",
    "        dt.datetime(2013,12,31), \\\n",
    "        dt.datetime(2015,12,31), \\\n",
    "        dt.datetime(2007,12,31), \\\n",
    "        dt.datetime(2009,12,31), \\\n",
    "        dt.datetime(2011,12,31), \\\n",
    "        dt.datetime(2013,12,31), \\\n",
    "        dt.datetime(2015,12,31), \\\n",
    "        dt.datetime(2009,12,31), \\\n",
    "        dt.datetime(2011,12,31),\\\n",
    "        dt.datetime(2016,12,31)]\n",
    "\n",
    "\n",
    "for i in range(0,13): \n",
    "\n",
    "    sd_train = sd_train_set[i]\n",
    "    ed_train = ed_train_set[i]\n",
    "    sd_test = sd_test_set[i]\n",
    "    ed_test = ed_test_set[i]\n",
    "    symbol = symbol_set[i]\n",
    "\n",
    "    log_simulations[(symbol, sd_train, ed_train, sd_test, ed_test)] = teststrategy.run_simulations_b(symbol = symbol,\n",
    "            sd_train = sd_train,\\\n",
    "            ed_train = ed_train,\\\n",
    "            sd_test = sd_test,\\\n",
    "            ed_test = ed_test,\\\n",
    "            sv =10000, \\\n",
    "            num_simulation = 10,\\\n",
    "            plot_results = False, \\\n",
    "            verbose = False)\n",
    "    print \"simulation:\",i \n",
    "    print \"Inputs:\", symbol, sd_train, ed_train, sd_test, ed_test\n",
    "    print \"result (train_return, train_benchmark, test_return, test_benchmark):\", \\\n",
    "            log_simulations[(symbol, sd_train, ed_train, sd_test, ed_test)] \n"
   ]
  },
  {
   "cell_type": "code",
   "execution_count": 3,
   "metadata": {
    "collapsed": false
   },
   "outputs": [
    {
     "name": "stdout",
     "output_type": "stream",
     "text": [
      "{('IBM', datetime.datetime(2011, 12, 31, 0, 0), datetime.datetime(2013, 12, 31, 0, 0), datetime.datetime(2013, 12, 31, 0, 0), datetime.datetime(2015, 12, 31, 0, 0)): (2.153252892999999, 0.070858029999999905, -0.366952843999999, -0.37955070999999974), ('IBM', datetime.datetime(2007, 12, 31, 0, 0), datetime.datetime(2009, 12, 31, 0, 0), datetime.datetime(2009, 12, 31, 0, 0), datetime.datetime(2011, 12, 31, 0, 0)): (1.7306052130000023, 0.22490852000000006, 0.39549939000000067, 0.50186876999999996), ('IBM', datetime.datetime(2009, 12, 31, 0, 0), datetime.datetime(2011, 12, 31, 0, 0), datetime.datetime(2011, 12, 31, 0, 0), datetime.datetime(2013, 12, 31, 0, 0)): (2.0680628910000021, 0.50186876999999996, 0.17241428000000072, 0.070858029999999905), ('IBM', datetime.datetime(2005, 12, 31, 0, 0), datetime.datetime(2007, 12, 31, 0, 0), datetime.datetime(2007, 12, 31, 0, 0), datetime.datetime(2009, 12, 31, 0, 0)): (1.0742375139999982, 0.22895438999999995, 0.44271044600000203, 0.22490852000000006), ('SPY', datetime.datetime(2003, 12, 31, 0, 0), datetime.datetime(2005, 12, 31, 0, 0), datetime.datetime(2005, 12, 31, 0, 0), datetime.datetime(2007, 12, 31, 0, 0)): (0.70992458400000236, 0.13666007999999996, 0.018739896000001234, 0.19817671999999975), ('IBM', datetime.datetime(2003, 12, 31, 0, 0), datetime.datetime(2005, 12, 31, 0, 0), datetime.datetime(2005, 12, 31, 0, 0), datetime.datetime(2007, 12, 31, 0, 0)): (0.75982959299999686, -0.070294070000000097, 0.12762818800000189, 0.22895438999999995), ('SPY', datetime.datetime(2009, 12, 31, 0, 0), datetime.datetime(2011, 12, 31, 0, 0), datetime.datetime(2011, 12, 31, 0, 0), datetime.datetime(2013, 12, 31, 0, 0)): (1.4061422250000029, 0.16574237000000003, 0.10213229900000047, 0.5847494000000002), ('GOOG', datetime.datetime(2009, 12, 31, 0, 0), datetime.datetime(2011, 12, 31, 0, 0), datetime.datetime(2011, 12, 31, 0, 0), datetime.datetime(2016, 12, 31, 0, 0)): (4.486934843000002, 0.1294706200000002, -0.59435396700000864, 4.3944682100000003), ('GOOG', datetime.datetime(2007, 12, 31, 0, 0), datetime.datetime(2009, 12, 31, 0, 0), datetime.datetime(2009, 12, 31, 0, 0), datetime.datetime(2011, 12, 31, 0, 0)): (5.6654799010000065, -0.35714332000000015, -0.31042445200000629, 0.1294706200000002), ('SPY', datetime.datetime(2005, 12, 31, 0, 0), datetime.datetime(2007, 12, 31, 0, 0), datetime.datetime(2007, 12, 31, 0, 0), datetime.datetime(2009, 12, 31, 0, 0)): (1.1111702960000027, 0.19817671999999975, 0.64305986699999707, -0.24249288000000002), ('GOOG', datetime.datetime(2005, 12, 31, 0, 0), datetime.datetime(2007, 12, 31, 0, 0), datetime.datetime(2007, 12, 31, 0, 0), datetime.datetime(2009, 12, 31, 0, 0)): (4.3049371359999995, 1.2799721800000001, 0.87337362899999782, -0.35714332000000015), ('SPY', datetime.datetime(2007, 12, 31, 0, 0), datetime.datetime(2009, 12, 31, 0, 0), datetime.datetime(2009, 12, 31, 0, 0), datetime.datetime(2011, 12, 31, 0, 0)): (1.9554630630000012, -0.24249288000000002, 0.057251311999999423, 0.16574237000000003), ('SPY', datetime.datetime(2011, 12, 31, 0, 0), datetime.datetime(2013, 12, 31, 0, 0), datetime.datetime(2013, 12, 31, 0, 0), datetime.datetime(2015, 12, 31, 0, 0)): (1.1164446499999987, 0.5847494000000002, 0.66870461700000061, 0.25715754999999962)}\n"
     ]
    }
   ],
   "source": [
    "print log_simulations \n"
   ]
  },
  {
   "cell_type": "markdown",
   "metadata": {},
   "source": [
    "Note: here I noticed that I made a mistake for the last ed_test_set, it should be dt.datetime(2013,12,31)instead of dt.datetime(2016,12,31). To save time running all the simulations again, I simpy ran teststrategy.py for i=12 to obtain a result shown as below:"
   ]
  },
  {
   "cell_type": "markdown",
   "metadata": {},
   "source": [
    "simulation: 12\n",
    "Inputs: GOOG 2009-12-31 00:00:00 2011-12-31 00:00:00 2011-12-31 00:00:00 2013-12-31 00:00:00\n",
    "result (train_return, train_benchmark, test_return, test_benchmark): (4.8620649560000047, 0.1294706200000002, -0.87631203200000662, 2.2742299600000004)\n",
    "{('GOOG', datetime.datetime(2009, 12, 31, 0, 0), datetime.datetime(2011, 12, 31, 0, 0), datetime.datetime(2011, 12, 31, 0, 0), datetime.datetime(2013, 12, 31, 0, 0)): (4.8620649560000047, 0.1294706200000002, -0.87631203200000662, 2.2742299600000004)}\n"
   ]
  }
 ],
 "metadata": {
  "kernelspec": {
   "display_name": "Python 2",
   "language": "python",
   "name": "python2"
  },
  "language_info": {
   "codemirror_mode": {
    "name": "ipython",
    "version": 2
   },
   "file_extension": ".py",
   "mimetype": "text/x-python",
   "name": "python",
   "nbconvert_exporter": "python",
   "pygments_lexer": "ipython2",
   "version": "2.7.13"
  }
 },
 "nbformat": 4,
 "nbformat_minor": 0
}
