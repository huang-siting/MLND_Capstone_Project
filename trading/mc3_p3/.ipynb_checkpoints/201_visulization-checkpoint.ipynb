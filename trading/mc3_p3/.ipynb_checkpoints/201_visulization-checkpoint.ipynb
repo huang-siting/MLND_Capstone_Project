{
 "cells": [
  {
   "cell_type": "markdown",
   "metadata": {},
   "source": [
    "## Stock prices "
   ]
  },
  {
   "cell_type": "markdown",
   "metadata": {},
   "source": [
    "Plot the daily Adj.Close for the three stocks in our dataset: IBM, SPY, GOOG."
   ]
  },
  {
   "cell_type": "code",
   "execution_count": 3,
   "metadata": {
    "collapsed": false
   },
   "outputs": [
    {
     "ename": "ImportError",
     "evalue": "No module named plotly.plotly",
     "output_type": "error",
     "traceback": [
      "\u001b[0;31m---------------------------------------------------------------------------\u001b[0m",
      "\u001b[0;31mImportError\u001b[0m                               Traceback (most recent call last)",
      "\u001b[0;32m<ipython-input-3-3a36d4753fa4>\u001b[0m in \u001b[0;36m<module>\u001b[0;34m()\u001b[0m\n\u001b[1;32m     11\u001b[0m \u001b[0;32mfrom\u001b[0m \u001b[0mmatplotlib\u001b[0m\u001b[0;34m.\u001b[0m\u001b[0mdates\u001b[0m \u001b[0;32mimport\u001b[0m \u001b[0mdate2num\u001b[0m\u001b[0;34m\u001b[0m\u001b[0m\n\u001b[1;32m     12\u001b[0m \u001b[0;32mimport\u001b[0m \u001b[0mdatetime\u001b[0m\u001b[0;34m\u001b[0m\u001b[0m\n\u001b[0;32m---> 13\u001b[0;31m \u001b[0;32mimport\u001b[0m \u001b[0mplotly\u001b[0m\u001b[0;34m.\u001b[0m\u001b[0mplotly\u001b[0m \u001b[0;32mas\u001b[0m \u001b[0mpy\u001b[0m\u001b[0;34m\u001b[0m\u001b[0m\n\u001b[0m\u001b[1;32m     14\u001b[0m \u001b[0;34m\u001b[0m\u001b[0m\n\u001b[1;32m     15\u001b[0m \u001b[0mmultiple_bars\u001b[0m \u001b[0;34m=\u001b[0m \u001b[0mplt\u001b[0m\u001b[0;34m.\u001b[0m\u001b[0mfigure\u001b[0m\u001b[0;34m(\u001b[0m\u001b[0;34m)\u001b[0m\u001b[0;34m\u001b[0m\u001b[0m\n",
      "\u001b[0;31mImportError\u001b[0m: No module named plotly.plotly"
     ]
    }
   ],
   "source": [
    "import pandas as pd\n",
    "import matplotlib.pyplot as plt\n",
    "import datetime as dt\n",
    "import QLearner as ql\n",
    "import pandas as pd\n",
    "import util as ut\n",
    "\n",
    "# Pretty display for notebooks\n",
    "%matplotlib inline\n",
    "\n",
    "from matplotlib.dates import date2num\n",
    "import datetime\n",
    "import plotly.plotly as py\n",
    "\n",
    "multiple_bars = plt.figure()\n",
    "\n",
    "x = [datetime.datetime(2011, 1, 4, 0, 0),\n",
    "     datetime.datetime(2011, 1, 5, 0, 0),\n",
    "     datetime.datetime(2011, 1, 6, 0, 0)]\n",
    "x = date2num(x)\n",
    "\n",
    "y = [4, 9, 2]\n",
    "z=[1,2,3]\n",
    "k=[11,12,13]\n",
    "\n",
    "ax = plt.subplot(111)\n",
    "ax.bar(x-0.2, y,width=0.2,color='b',align='center')\n",
    "ax.bar(x, z,width=0.2,color='g',align='center')\n",
    "ax.bar(x+0.2, k,width=0.2,color='r',align='center')\n",
    "ax.xaxis_date()\n",
    "\n",
    "plt.show()\n",
    "\n",
    "\n"
   ]
  },
  {
   "cell_type": "code",
   "execution_count": 2,
   "metadata": {
    "collapsed": false
   },
   "outputs": [
    {
     "data": {
      "image/png": "[encoded data removed]",
      "text/plain": [
       "<matplotlib.figure.Figure at 0x7fbe523f7f90>"
      ]
     },
     "metadata": {},
     "output_type": "display_data"
    }
   ],
   "source": [
    "stdate =dt.datetime(1962,1,2)\n",
    "enddate =dt.datetime(2017,4,26) \n",
    "\n",
    "dates = pd.date_range(stdate, enddate)\n",
    "syms=[\"SPY\", \"GOOG\", \"IBM\"]\n",
    "prices_all = ut.get_data(syms, dates)  \n",
    "ut.plot_data(prices_all)\n"
   ]
  },
  {
   "cell_type": "markdown",
   "metadata": {},
   "source": [
    "From the graph above, we can see the market downturn in 2018 and 2019. \n",
    "It is also noticeable that the stock GOOG has the most significant price increase.\n",
    "\n"
   ]
  },
  {
   "cell_type": "code",
   "execution_count": 7,
   "metadata": {
    "collapsed": false
   },
   "outputs": [
    {
     "name": "stdout",
     "output_type": "stream",
     "text": [
      "the amount of missing prices: 0\n"
     ]
    }
   ],
   "source": [
    "stdate =dt.datetime(2004,8,19)\n",
    "enddate =dt.datetime(2017,4,21) \n",
    "\n",
    "dates = pd.date_range(stdate, enddate)\n",
    "prices_all = ut.get_data([\"GOOG\"], dates)  \n",
    "prices= prices_all[\"GOOG\"]\n",
    "\n",
    "print \"the amount of missing prices:\", prices.isnull().sum() \n"
   ]
  },
  {
   "cell_type": "code",
   "execution_count": 8,
   "metadata": {
    "collapsed": false
   },
   "outputs": [
    {
     "name": "stdout",
     "output_type": "stream",
     "text": [
      "the amount of missing prices: 0\n"
     ]
    }
   ],
   "source": [
    "stdate =dt.datetime(1962,1,2)\n",
    "enddate =dt.datetime(2017,4,26) \n",
    "\n",
    "dates = pd.date_range(stdate, enddate)\n",
    "prices_all = ut.get_data([\"IBM\"], dates)  \n",
    "prices= prices_all[\"IBM\"]\n",
    "\n",
    "print \"the amount of missing prices:\", prices.isnull().sum() \n"
   ]
  },
  {
   "cell_type": "markdown",
   "metadata": {
    "collapsed": true
   },
   "source": [
    "The two stocks have no missing data."
   ]
  },
  {
   "cell_type": "code",
   "execution_count": null,
   "metadata": {
    "collapsed": true
   },
   "outputs": [],
   "source": []
  }
 ],
 "metadata": {
  "kernelspec": {
   "display_name": "Python 2",
   "language": "python",
   "name": "python2"
  },
  "language_info": {
   "codemirror_mode": {
    "name": "ipython",
    "version": 2
   },
   "file_extension": ".py",
   "mimetype": "text/x-python",
   "name": "python",
   "nbconvert_exporter": "python",
   "pygments_lexer": "ipython2",
   "version": "2.7.13"
  }
 },
 "nbformat": 4,
 "nbformat_minor": 0
}
