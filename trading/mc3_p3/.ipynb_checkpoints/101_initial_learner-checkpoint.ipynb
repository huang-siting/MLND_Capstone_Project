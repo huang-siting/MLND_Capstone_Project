{
 "cells": [
  {
   "cell_type": "markdown",
   "metadata": {},
   "source": [
    "## Implement a Strategy Learner"
   ]
  },
  {
   "cell_type": "markdown",
   "metadata": {},
   "source": [
    "Implement a Strategy Learner and plot the results"
   ]
  },
  {
   "cell_type": "code",
   "execution_count": 1,
   "metadata": {
    "collapsed": false
   },
   "outputs": [],
   "source": [
    "import pandas as pd\n",
    "import matplotlib.pyplot as plt\n",
    "import datetime as dt\n",
    "import pandas as pd\n",
    "import util as ut\n",
    "import numpy as np\n",
    "import QLearner as ql\n",
    "\n",
    "# Pretty display for notebooks\n",
    "%matplotlib inline"
   ]
  },
  {
   "cell_type": "code",
   "execution_count": 2,
   "metadata": {
    "collapsed": false
   },
   "outputs": [],
   "source": [
    "class StrategyLearner(object):\n",
    "\n",
    "    # constructor\n",
    "    def __init__(self, window=15, verbose = False):\n",
    "        self.verbose = verbose\n",
    "        self.window = window\n",
    "\n",
    "    # this method should create a QLearner, and train it for trading\n",
    "    def addEvidence(self, symbol = \"GOOG\", \\\n",
    "        sd=dt.datetime(2004,8,19), \\\n",
    "        ed=dt.datetime(2005,8,19), \\\n",
    "        sv = 10000): \n",
    "\n",
    "        syms=[symbol]\n",
    "        dates = pd.date_range(sd, ed)\n",
    "\n",
    "        # read price data\n",
    "        prices_all = ut.get_data(syms, dates)  # automatically adds SPY\n",
    "        prices = prices_all[syms]  # only portfolio symbols\n",
    "        prices_SPY = prices_all['SPY']  # only SPY, for comparison later\n",
    "        if self.verbose: print prices.head()\n",
    "\n",
    "        # discretize ratio close/SMA\n",
    "        ratio_close_SMA = ut.compute_ratio_close_SMA(prices, window=self.window)\n",
    "        ratio_close_SMA.dropna(inplace=True)\n",
    "        self.ratio_close_SMA_thresholds = ut. compute_discretizing_thresholds(ratio_close_SMA[symbol], steps=10)\n",
    "        discrete_close_SMA = ut.discretize_df_thresholds(ratio_close_SMA[symbol], \\\n",
    "                self.ratio_close_SMA_thresholds)\n",
    "\n",
    "        # discretize percent_b\n",
    "        percent_b = ut.compute_percent_b(prices, window=self.window)\n",
    "        percent_b.dropna(inplace=True)\n",
    "        self.percent_b_thresholds = ut.compute_discretizing_thresholds(\n",
    "        percent_b[symbol], steps=10)\n",
    "        discrete_percent_b = ut.discretize_df_thresholds(percent_b[symbol],\\\n",
    "                self.percent_b_thresholds)\n",
    "\n",
    "        # compute daily returns of the stock\n",
    "        stock_daily_returns = ut.compute_daily_returns(prices)\n",
    "\n",
    "        # compute daily absolute changes of the stock\n",
    "        stock_daily_changes = ut.compute_daily_changes(prices)\n",
    "\n",
    "        # initiate a Q-learner\n",
    "        self.learner = ql.QLearner(num_states=3000,\\\n",
    "            num_actions = 3, \\\n",
    "            alpha = 0.2, \\\n",
    "            gamma = 0.9, \\\n",
    "            rar = 0.98, \\\n",
    "            radr = 0.9999, \\\n",
    "            dyna = 0, \\\n",
    "            verbose=False) \n",
    "\n",
    "        # initiate cumulative return\n",
    "        cumulative_return = list() \n",
    "\n",
    "        num_trials = 300\n",
    "        for trial in range(0,num_trials): \n",
    "            \n",
    "            # initiate holding (holding takes values -1, 0 , 1)\n",
    "            holding = 0\n",
    "            # initiate portfolio value\n",
    "            portfolio = sv \n",
    "\n",
    "            ## for each day in the training data with features \n",
    "            # set the state and get the first action\n",
    "            state_since_entry = ut.discretize_return_since_entry(portfolio, sv, threshold=0.1)\n",
    "            state = ut.stack_digits([holding+1,\\\n",
    "                    state_since_entry, \\\n",
    "                    discrete_close_SMA[0],\\\n",
    "                    discrete_percent_b[0]]) \n",
    "\n",
    "            action = self.learner.querysetstate(state) \n",
    "            holding = action - 1 \n",
    "\n",
    "            ##move to new state according to action and then get a new action\n",
    "            for t in discrete_close_SMA[1:].index.tolist(): \n",
    "\n",
    "                # daily return as rewards\n",
    "                r = stock_daily_returns[symbol][t] * holding\n",
    "\n",
    "                state_since_entry = ut.discretize_return_since_entry(portfolio, sv, threshold=0.1)\n",
    "\n",
    "                state = ut.stack_digits([holding+1, \\\n",
    "                        state_since_entry, \\\n",
    "                        discrete_close_SMA[t], \\\n",
    "                        discrete_percent_b[t]]) \n",
    "\n",
    "                action = self.learner.query(state,r)\n",
    "\n",
    "                #update portfolio value\n",
    "                portfolio += stock_daily_changes[symbol][t] * holding * 100\n",
    "                holding = action - 1\n",
    "\n",
    "            cumulative_return.append(portfolio/sv - 1)\n",
    "\n",
    "        #print \"cumulative return of training:\",cumulative_return[-1]\n",
    "\n",
    "        return cumulative_return\n",
    "\n",
    "\n",
    "    # this method should use the existing policy and test it against new data\n",
    "    def testPolicy(self, symbol = \"IBM\", \\\n",
    "        sd=dt.datetime(2009,12,31), \\\n",
    "        ed=dt.datetime(2011,12,31), \\\n",
    "        sv = 10000):\n",
    "\n",
    "        syms=[symbol]\n",
    "        dates = pd.date_range(sd, ed)\n",
    "\n",
    "        # read price data\n",
    "        prices_all = ut.get_data(syms, dates)  # automatically adds SPY\n",
    "        prices = prices_all[syms]  # only portfolio symbols\n",
    "        prices_SPY = prices_all['SPY']  # only SPY, for comparison later\n",
    "\n",
    "        # discretize ratio close/SMA\n",
    "        ratio_close_SMA = ut.compute_ratio_close_SMA(prices, window=self.window)\n",
    "        ratio_close_SMA.dropna(inplace=True)\n",
    "        discrete_close_SMA = ut.discretize_df_thresholds(ratio_close_SMA[symbol], \\\n",
    "                self.ratio_close_SMA_thresholds)\n",
    "\n",
    "        # discretize percent_b\n",
    "        percent_b = ut.compute_percent_b(prices, window=self.window)\n",
    "        percent_b.dropna(inplace=True)\n",
    "        discrete_percent_b = ut.discretize_df_thresholds(percent_b[symbol],\\\n",
    "                self.percent_b_thresholds)\n",
    "\n",
    "        # compute daily returns of the stock\n",
    "        stock_daily_returns = ut.compute_daily_returns(prices)\n",
    "\n",
    "        # compute daily absolute changes of the stock\n",
    "        stock_daily_changes = ut.compute_daily_changes(prices)\n",
    "\n",
    "        holding = 0\n",
    "        portfolio = sv \n",
    "\n",
    "        trades = prices_all[[symbol,]]  # only portfolio symbols\n",
    "        trades.values[:,:] = 0 # set them all to nothing\n",
    "\n",
    "        for t in discrete_close_SMA.index.tolist(): \n",
    "\n",
    "            # compute current state\n",
    "            state_since_entry = ut.discretize_return_since_entry(portfolio, sv, threshold=0.1)\n",
    "            state = ut.stack_digits([holding+1, \\\n",
    "                    state_since_entry, \\\n",
    "                    discrete_close_SMA[t], \\\n",
    "                    discrete_percent_b[t]]) \n",
    "            action = self.learner.querysetstate(state) \n",
    "\n",
    "            #update portfolio value\n",
    "            portfolio += stock_daily_changes[symbol][t] * holding * 100\n",
    "            old_holding = holding\n",
    "            holding = action - 1\n",
    "            trades[symbol][t] = (holding - old_holding) * 100\n",
    "\n",
    "        cumulative_return = portfolio/sv - 1\n",
    "\n",
    "        #print \"cumulative return of testing:\",cumulative_return\n",
    "\n",
    "        return trades, cumulative_return\n"
   ]
  },
  {
   "cell_type": "code",
   "execution_count": 3,
   "metadata": {
    "collapsed": false
   },
   "outputs": [
    {
     "name": "stdout",
     "output_type": "stream",
     "text": [
      "cumulative return of buy-and-hold strategy: 0.50186877\n"
     ]
    }
   ],
   "source": [
    "# set parameters for training the learner\n",
    "symbol = \"IBM\"\n",
    "sd_train = dt.datetime(2007,12,31)\n",
    "ed_train = dt.datetime(2009,12,31) \n",
    "\n",
    "# set parameters for testing\n",
    "sd_test = dt.datetime(2009,12,31)\n",
    "ed_test = dt.datetime(2011,12,31) \n",
    "\n",
    "# get some data for reference\n",
    "syms=[symbol]\n",
    "dates = pd.date_range(sd_test, ed_test)\n",
    "prices_all = ut.get_data(syms, dates)  # automatically adds SPY\n",
    "prices = prices_all[syms]  # only portfolio symbols\n",
    "\n",
    "# compute benchmark\n",
    "sv =10000\n",
    "cumulative_return_buy_hold_strategy = ((prices.ix[-1,:][0]- prices.ix[0,:][0])*100+sv)/sv - 1\n",
    "print \"cumulative return of buy-and-hold strategy:\",\\\n",
    "        cumulative_return_buy_hold_strategy \n",
    "\n"
   ]
  },
  {
   "cell_type": "code",
   "execution_count": 5,
   "metadata": {
    "collapsed": false
   },
   "outputs": [
    {
     "name": "stdout",
     "output_type": "stream",
     "text": [
      "simulation: 0\n",
      "cumulative return on testing for the last trial: 1.67884508\n"
     ]
    },
    {
     "name": "stderr",
     "output_type": "stream",
     "text": [
      "/home/siting/anaconda3/envs/py2/lib/python2.7/site-packages/ipykernel/__main__.py:19: SettingWithCopyWarning: \n",
      "A value is trying to be set on a copy of a slice from a DataFrame\n",
      "\n",
      "See the caveats in the documentation: http://pandas.pydata.org/pandas-docs/stable/indexing.html#indexing-view-versus-copy\n"
     ]
    },
    {
     "name": "stdout",
     "output_type": "stream",
     "text": [
      "simulation: 1\n",
      "cumulative return on testing for the last trial: 1.6928224\n",
      "simulation: 2\n",
      "cumulative return on testing for the last trial: 1.58882911\n",
      "simulation: 3\n",
      "cumulative return on testing for the last trial: 1.79280029\n",
      "simulation: 4\n",
      "cumulative return on testing for the last trial: 1.65192434\n",
      "simulation: 5\n",
      "cumulative return on testing for the last trial: 1.65993212\n",
      "simulation: 6\n",
      "cumulative return on testing for the last trial: 1.6144619\n",
      "simulation: 7\n",
      "cumulative return on testing for the last trial: 1.50701599\n",
      "simulation: 8\n",
      "cumulative return on testing for the last trial: 1.49393026\n",
      "simulation: 9\n",
      "cumulative return on testing for the last trial: 1.2937939\n"
     ]
    },
    {
     "data": {
      "image/png": "[encoded data removed]",
      "text/plain": [
       "<matplotlib.figure.Figure at 0x7f9c79933110>"
      ]
     },
     "metadata": {},
     "output_type": "display_data"
    },
    {
     "name": "stdout",
     "output_type": "stream",
     "text": [
      "cumulative_returns_train [ 1.67884508  1.6928224   1.58882911  1.79280029  1.65192434  1.65993212\n",
      "  1.6144619   1.50701599  1.49393026  1.2937939 ]\n",
      "cumulative_returns_test [ 0.24914708  0.30883137  0.2502211   0.4400323   0.53603094  0.33906875\n",
      "  0.47236094  0.1404276   0.08605978  0.30198513]\n"
     ]
    }
   ],
   "source": [
    "# do num_simulatoins\n",
    "num_simulation = 10\n",
    "\n",
    "cumulative_returns_train = np.zeros(num_simulation)\n",
    "cumulative_returns_test = np.zeros(num_simulation)\n",
    "\n",
    "for i in range(0,num_simulation): \n",
    "    # instantiate the strategy learner\n",
    "    learner = StrategyLearner(verbose = False)\n",
    "\n",
    "    # training\n",
    "    cumulative_return = learner.addEvidence(symbol = symbol,\\\n",
    "                sd = sd_train, \\\n",
    "                ed = ed_train, sv = 10000) \n",
    "\n",
    "    cumulative_returns_train[i] = cumulative_return[-1]\n",
    "    print \"simulation:\", i\n",
    "    print \"cumulative return on testing for the last trial:\", cumulative_returns_train[i]\n",
    "\n",
    "    # test the learner\n",
    "    df_trades, cumulative_returns_test[i] = learner.testPolicy(symbol = symbol, sd = sd_test, \\\n",
    "    ed = ed_test, sv = 10000)\n",
    "    \n",
    "    plt.plot(cumulative_return)\n",
    "\n",
    "plt.title(\"Cumulative return on training set of ten simulations\")\n",
    "plt.ylabel(\"Cumulative return\")\n",
    "plt.xlabel(\"Trials\")\n",
    "plt.show()\n",
    "\n",
    "print \"cumulative_returns_train\", cumulative_returns_train \n",
    "print \"cumulative_returns_test\", cumulative_returns_test\n"
   ]
  },
  {
   "cell_type": "code",
   "execution_count": 6,
   "metadata": {
    "collapsed": false
   },
   "outputs": [
    {
     "name": "stdout",
     "output_type": "stream",
     "text": [
      "for 10 simulations, the mean and std of training returns: 1.597435539 0.131232486362\n",
      "for 10 simulations, the mean and std of testing returns: 0.312416499 0.134681950105\n"
     ]
    }
   ],
   "source": [
    "mean_cumulative_return_train = np.mean(cumulative_returns_train)\n",
    "std_cumulative_retun_train = np.std(cumulative_returns_train)\n",
    "\n",
    "mean_cumulative_returns_test = np.mean(cumulative_returns_test )\n",
    "std_cumulative_returns_test = np.std(cumulative_returns_test)\n",
    "\n",
    "print \"for 10 simulations, the mean and std of training returns:\", mean_cumulative_return_train, std_cumulative_retun_train \n",
    "print \"for 10 simulations, the mean and std of testing returns:\", mean_cumulative_returns_test, std_cumulative_returns_test\n"
   ]
  },
  {
   "cell_type": "code",
   "execution_count": 8,
   "metadata": {
    "collapsed": false
   },
   "outputs": [
    {
     "name": "stdout",
     "output_type": "stream",
     "text": [
      "[[  1.35309556e-02   2.74643165e-02   1.07015929e-02]\n",
      " [  1.87413777e-04   2.38467894e-02   5.95180053e-03]\n",
      " [  3.79358691e-02   1.69871773e-02   1.29094594e-02]\n",
      " ..., \n",
      " [  2.18362438e-02   0.00000000e+00  -1.70058250e-05]\n",
      " [ -2.57851964e-03   0.00000000e+00   2.38593942e-02]\n",
      " [  1.19533653e-03   1.09199351e-02  -1.59223402e-03]]\n"
     ]
    }
   ],
   "source": [
    "print learner.learner.Q[0:2200]"
   ]
  },
  {
   "cell_type": "code",
   "execution_count": null,
   "metadata": {
    "collapsed": true
   },
   "outputs": [],
   "source": []
  }
 ],
 "metadata": {
  "kernelspec": {
   "display_name": "Python 2",
   "language": "python",
   "name": "python2"
  },
  "language_info": {
   "codemirror_mode": {
    "name": "ipython",
    "version": 2
   },
   "file_extension": ".py",
   "mimetype": "text/x-python",
   "name": "python",
   "nbconvert_exporter": "python",
   "pygments_lexer": "ipython2",
   "version": "2.7.13"
  }
 },
 "nbformat": 4,
 "nbformat_minor": 0
}
