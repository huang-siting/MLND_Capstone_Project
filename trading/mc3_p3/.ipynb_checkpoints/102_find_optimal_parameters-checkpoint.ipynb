{
 "cells": [
  {
   "cell_type": "markdown",
   "metadata": {},
   "source": [
    "## Find optimal hyperparameters for Strategy Learner"
   ]
  },
  {
   "cell_type": "code",
   "execution_count": 1,
   "metadata": {
    "collapsed": false
   },
   "outputs": [],
   "source": [
    "import warnings\n",
    "warnings.filterwarnings('ignore')\n",
    "\n",
    "import pandas as pd\n",
    "import datetime as dt\n",
    "import util as ut\n",
    "import StrategyLearner as sl\n",
    "import matplotlib.pyplot as plt\n",
    "import numpy as np\n",
    "import QLearner as ql\n",
    "\n",
    "import find_optimal_parameters\n",
    "\n",
    "# Pretty display for notebooks\n",
    "%matplotlib inline"
   ]
  },
  {
   "cell_type": "code",
   "execution_count": null,
   "metadata": {
    "collapsed": true
   },
   "outputs": [],
   "source": []
  },
  {
   "cell_type": "code",
   "execution_count": 2,
   "metadata": {
    "collapsed": false
   },
   "outputs": [
    {
     "name": "stdout",
     "output_type": "stream",
     "text": [
      "Parameters (alpha, rar,radr,window): (0.1, 0.9, 0.9999, 10)\n",
      "cumulative_returns_train, cumulative_returns_test (1.7591204070000011, 0.35029126900000157)\n",
      "Parameters (alpha, rar,radr,window): (0.1, 0.9, 0.9999, 15)\n",
      "cumulative_returns_train, cumulative_returns_test (1.7767288410000017, 0.48537016000000027)\n",
      "Parameters (alpha, rar,radr,window): (0.1, 0.9, 0.9999, 20)\n",
      "cumulative_returns_train, cumulative_returns_test (1.8194125220000015, 0.45541225499999954)\n",
      "Parameters (alpha, rar,radr,window): (0.1, 0.9, 0.999, 10)\n",
      "cumulative_returns_train, cumulative_returns_test (1.3412452879999999, 0.38606236500000018)\n",
      "Parameters (alpha, rar,radr,window): (0.1, 0.9, 0.999, 15)\n",
      "cumulative_returns_train, cumulative_returns_test (1.3409892270000008, 0.43376067200000057)\n",
      "Parameters (alpha, rar,radr,window): (0.1, 0.9, 0.999, 20)\n",
      "cumulative_returns_train, cumulative_returns_test (1.2227656269999996, 0.39309153500000127)\n",
      "Parameters (alpha, rar,radr,window): (0.1, 0.98, 0.9999, 10)\n",
      "cumulative_returns_train, cumulative_returns_test (1.8056725710000012, 0.30761156200000062)\n",
      "Parameters (alpha, rar,radr,window): (0.1, 0.98, 0.9999, 15)\n",
      "cumulative_returns_train, cumulative_returns_test (1.7387312400000021, 0.44659225600000046)\n",
      "Parameters (alpha, rar,radr,window): (0.1, 0.98, 0.9999, 20)\n",
      "cumulative_returns_train, cumulative_returns_test (1.7445369270000022, 0.39024773700000026)\n",
      "Parameters (alpha, rar,radr,window): (0.1, 0.98, 0.999, 10)\n",
      "cumulative_returns_train, cumulative_returns_test (1.4664527090000001, 0.37775492699999952)\n",
      "Parameters (alpha, rar,radr,window): (0.1, 0.98, 0.999, 15)\n",
      "cumulative_returns_train, cumulative_returns_test (1.1023217210000003, 0.30010354099999997)\n",
      "Parameters (alpha, rar,radr,window): (0.1, 0.98, 0.999, 20)\n",
      "cumulative_returns_train, cumulative_returns_test (1.2041053690000008, 0.28430760100000069)\n",
      "Parameters (alpha, rar,radr,window): (0.2, 0.9, 0.9999, 10)\n",
      "cumulative_returns_train, cumulative_returns_test (1.6207204730000011, 0.44073723500000073)\n",
      "Parameters (alpha, rar,radr,window): (0.2, 0.9, 0.9999, 15)\n",
      "cumulative_returns_train, cumulative_returns_test (1.5483265610000012, 0.27921067100000041)\n",
      "Parameters (alpha, rar,radr,window): (0.2, 0.9, 0.9999, 20)\n",
      "cumulative_returns_train, cumulative_returns_test (1.5900600010000012, 0.39218148500000038)\n",
      "Parameters (alpha, rar,radr,window): (0.2, 0.9, 0.999, 10)\n",
      "cumulative_returns_train, cumulative_returns_test (1.1365413519999998, 0.28845138600000048)\n",
      "Parameters (alpha, rar,radr,window): (0.2, 0.9, 0.999, 15)\n",
      "cumulative_returns_train, cumulative_returns_test (1.1213618470000002, 0.25072293099999998)\n",
      "Parameters (alpha, rar,radr,window): (0.2, 0.9, 0.999, 20)\n",
      "cumulative_returns_train, cumulative_returns_test (1.2115183840000003, 0.33046000300000056)\n",
      "Parameters (alpha, rar,radr,window): (0.2, 0.98, 0.9999, 10)\n",
      "cumulative_returns_train, cumulative_returns_test (1.5925698940000015, 0.32220867500000028)\n",
      "Parameters (alpha, rar,radr,window): (0.2, 0.98, 0.9999, 15)\n",
      "cumulative_returns_train, cumulative_returns_test (1.6050363300000015, 0.37435316700000082)\n",
      "Parameters (alpha, rar,radr,window): (0.2, 0.98, 0.9999, 20)\n",
      "cumulative_returns_train, cumulative_returns_test (1.5626174610000017, 0.33970178900000098)\n",
      "Parameters (alpha, rar,radr,window): (0.2, 0.98, 0.999, 10)\n",
      "cumulative_returns_train, cumulative_returns_test (1.1232045119999996, 0.35044079900000014)\n",
      "Parameters (alpha, rar,radr,window): (0.2, 0.98, 0.999, 15)\n",
      "cumulative_returns_train, cumulative_returns_test (1.3181819850000001, 0.40082753100000107)\n",
      "Parameters (alpha, rar,radr,window): (0.2, 0.98, 0.999, 20)\n",
      "cumulative_returns_train, cumulative_returns_test (1.2834987050000004, 0.31696613399999995)\n"
     ]
    }
   ],
   "source": [
    "log_simulations = find_optimal_parameters.find_optimal_parameters()"
   ]
  },
  {
   "cell_type": "code",
   "execution_count": 3,
   "metadata": {
    "collapsed": false
   },
   "outputs": [
    {
     "name": "stdout",
     "output_type": "stream",
     "text": [
      "{(0.2, 0.98, 0.999, 15): (1.3181819850000001, 0.40082753100000107), (0.1, 0.98, 0.999, 20): (1.2041053690000008, 0.28430760100000069), (0.2, 0.9, 0.999, 20): (1.2115183840000003, 0.33046000300000056), (0.1, 0.9, 0.9999, 20): (1.8194125220000015, 0.45541225499999954), (0.1, 0.9, 0.9999, 10): (1.7591204070000011, 0.35029126900000157), (0.2, 0.98, 0.999, 10): (1.1232045119999996, 0.35044079900000014), (0.1, 0.98, 0.9999, 15): (1.7387312400000021, 0.44659225600000046), (0.1, 0.9, 0.999, 15): (1.3409892270000008, 0.43376067200000057), (0.2, 0.98, 0.9999, 10): (1.5925698940000015, 0.32220867500000028), (0.1, 0.98, 0.999, 15): (1.1023217210000003, 0.30010354099999997), (0.1, 0.9, 0.999, 20): (1.2227656269999996, 0.39309153500000127), (0.2, 0.98, 0.999, 20): (1.2834987050000004, 0.31696613399999995), (0.2, 0.9, 0.999, 10): (1.1365413519999998, 0.28845138600000048), (0.2, 0.9, 0.9999, 10): (1.6207204730000011, 0.44073723500000073), (0.2, 0.98, 0.9999, 15): (1.6050363300000015, 0.37435316700000082), (0.1, 0.9, 0.999, 10): (1.3412452879999999, 0.38606236500000018), (0.2, 0.9, 0.9999, 15): (1.5483265610000012, 0.27921067100000041), (0.1, 0.9, 0.9999, 15): (1.7767288410000017, 0.48537016000000027), (0.1, 0.98, 0.9999, 20): (1.7445369270000022, 0.39024773700000026), (0.1, 0.98, 0.999, 10): (1.4664527090000001, 0.37775492699999952), (0.2, 0.9, 0.9999, 20): (1.5900600010000012, 0.39218148500000038), (0.2, 0.98, 0.9999, 20): (1.5626174610000017, 0.33970178900000098), (0.1, 0.98, 0.9999, 10): (1.8056725710000012, 0.30761156200000062), (0.2, 0.9, 0.999, 15): (1.1213618470000002, 0.25072293099999998)}\n"
     ]
    }
   ],
   "source": [
    "print log_simulations"
   ]
  },
  {
   "cell_type": "markdown",
   "metadata": {},
   "source": [
    "The best tesing result is with parameter (alpha, rar,radr,window): (0.1, 0.9, 0.9999, 15)"
   ]
  },
  {
   "cell_type": "code",
   "execution_count": 2,
   "metadata": {
    "collapsed": false
   },
   "outputs": [
    {
     "name": "stdout",
     "output_type": "stream",
     "text": [
      "Parameters (alpha, rar,radr,window): (0.1, 0.9, 0.9999, 10)\n",
      "cumulative_returns_train, cumulative_returns_test (1.961460470000004, 0.07327947600000137)\n",
      "Parameters (alpha, rar,radr,window): (0.1, 0.9, 0.9999, 15)\n",
      "cumulative_returns_train, cumulative_returns_test (2.0601840810000036, 0.096384076000001206)\n",
      "Parameters (alpha, rar,radr,window): (0.1, 0.9, 0.9999, 20)\n",
      "cumulative_returns_train, cumulative_returns_test (2.0874334510000034, 0.15258598400000173)\n",
      "Parameters (alpha, rar,radr,window): (0.1, 0.9, 0.999, 10)\n",
      "cumulative_returns_train, cumulative_returns_test (1.3818787700000033, 0.075628526000000945)\n",
      "Parameters (alpha, rar,radr,window): (0.1, 0.9, 0.999, 15)\n",
      "cumulative_returns_train, cumulative_returns_test (1.3596299810000028, 0.11947631300000083)\n",
      "Parameters (alpha, rar,radr,window): (0.1, 0.9, 0.999, 20)\n",
      "cumulative_returns_train, cumulative_returns_test (1.3174729680000028, 0.12159798400000137)\n",
      "Parameters (alpha, rar,radr,window): (0.1, 0.98, 0.9999, 10)\n",
      "cumulative_returns_train, cumulative_returns_test (2.0824987530000039, 0.052595249000001877)\n",
      "Parameters (alpha, rar,radr,window): (0.1, 0.98, 0.9999, 15)\n",
      "cumulative_returns_train, cumulative_returns_test (1.9925307740000047, 0.21564410500000192)\n",
      "Parameters (alpha, rar,radr,window): (0.1, 0.98, 0.9999, 20)\n",
      "cumulative_returns_train, cumulative_returns_test (2.0365458920000044, 0.10981150200000163)\n",
      "Parameters (alpha, rar,radr,window): (0.1, 0.98, 0.999, 10)\n",
      "cumulative_returns_train, cumulative_returns_test (1.4304021480000042, 0.055791736000001112)\n",
      "Parameters (alpha, rar,radr,window): (0.1, 0.98, 0.999, 15)\n",
      "cumulative_returns_train, cumulative_returns_test (1.5351363750000036, 0.069704907999999691)\n",
      "Parameters (alpha, rar,radr,window): (0.1, 0.98, 0.999, 20)\n",
      "cumulative_returns_train, cumulative_returns_test (1.2949101520000028, 0.18654351600000091)\n",
      "Parameters (alpha, rar,radr,window): (0.2, 0.9, 0.9999, 10)\n",
      "cumulative_returns_train, cumulative_returns_test (1.807537389000003, 0.059135513000001375)\n",
      "Parameters (alpha, rar,radr,window): (0.2, 0.9, 0.9999, 15)\n",
      "cumulative_returns_train, cumulative_returns_test (1.8210479960000037, 0.14506365100000182)\n",
      "Parameters (alpha, rar,radr,window): (0.2, 0.9, 0.9999, 20)\n",
      "cumulative_returns_train, cumulative_returns_test (1.7549056590000043, 0.090310573000001879)\n",
      "Parameters (alpha, rar,radr,window): (0.2, 0.9, 0.999, 10)\n",
      "cumulative_returns_train, cumulative_returns_test (1.3342167350000036, -0.067724298999998878)\n",
      "Parameters (alpha, rar,radr,window): (0.2, 0.9, 0.999, 15)\n",
      "cumulative_returns_train, cumulative_returns_test (1.1884335850000025, 0.0073484390000009055)\n",
      "Parameters (alpha, rar,radr,window): (0.2, 0.9, 0.999, 20)\n",
      "cumulative_returns_train, cumulative_returns_test (1.2987628950000034, -0.053729226999999012)\n",
      "Parameters (alpha, rar,radr,window): (0.2, 0.98, 0.9999, 10)\n",
      "cumulative_returns_train, cumulative_returns_test (1.7732684600000028, -0.033753719999998232)\n",
      "Parameters (alpha, rar,radr,window): (0.2, 0.98, 0.9999, 15)\n",
      "cumulative_returns_train, cumulative_returns_test (1.8926196330000031, 0.10908489400000221)\n",
      "Parameters (alpha, rar,radr,window): (0.2, 0.98, 0.9999, 20)\n",
      "cumulative_returns_train, cumulative_returns_test (1.7979128740000032, 0.02532644700000063)\n",
      "Parameters (alpha, rar,radr,window): (0.2, 0.98, 0.999, 10)\n",
      "cumulative_returns_train, cumulative_returns_test (1.1957960300000028, -0.056811613999998657)\n",
      "Parameters (alpha, rar,radr,window): (0.2, 0.98, 0.999, 15)\n",
      "cumulative_returns_train, cumulative_returns_test (1.3031851200000033, 0.052070665000001196)\n",
      "Parameters (alpha, rar,radr,window): (0.2, 0.98, 0.999, 20)\n",
      "cumulative_returns_train, cumulative_returns_test (1.3008953930000036, 0.15391050800000231)\n",
      "{(0.2, 0.98, 0.999, 15): (1.3031851200000033, 0.052070665000001196), (0.1, 0.98, 0.999, 20): (1.2949101520000028, 0.18654351600000091), (0.2, 0.9, 0.999, 20): (1.2987628950000034, -0.053729226999999012), (0.1, 0.9, 0.9999, 20): (2.0874334510000034, 0.15258598400000173), (0.1, 0.9, 0.9999, 10): (1.961460470000004, 0.07327947600000137), (0.2, 0.98, 0.999, 10): (1.1957960300000028, -0.056811613999998657), (0.1, 0.98, 0.9999, 15): (1.9925307740000047, 0.21564410500000192), (0.1, 0.9, 0.999, 15): (1.3596299810000028, 0.11947631300000083), (0.2, 0.98, 0.9999, 10): (1.7732684600000028, -0.033753719999998232), (0.1, 0.98, 0.999, 15): (1.5351363750000036, 0.069704907999999691), (0.1, 0.9, 0.999, 20): (1.3174729680000028, 0.12159798400000137), (0.2, 0.98, 0.999, 20): (1.3008953930000036, 0.15391050800000231), (0.2, 0.9, 0.999, 10): (1.3342167350000036, -0.067724298999998878), (0.2, 0.9, 0.9999, 10): (1.807537389000003, 0.059135513000001375), (0.2, 0.98, 0.9999, 15): (1.8926196330000031, 0.10908489400000221), (0.1, 0.9, 0.999, 10): (1.3818787700000033, 0.075628526000000945), (0.2, 0.9, 0.9999, 15): (1.8210479960000037, 0.14506365100000182), (0.1, 0.9, 0.9999, 15): (2.0601840810000036, 0.096384076000001206), (0.1, 0.98, 0.9999, 20): (2.0365458920000044, 0.10981150200000163), (0.1, 0.98, 0.999, 10): (1.4304021480000042, 0.055791736000001112), (0.2, 0.9, 0.9999, 20): (1.7549056590000043, 0.090310573000001879), (0.2, 0.98, 0.9999, 20): (1.7979128740000032, 0.02532644700000063), (0.1, 0.98, 0.9999, 10): (2.0824987530000039, 0.052595249000001877), (0.2, 0.9, 0.999, 15): (1.1884335850000025, 0.0073484390000009055)}\n"
     ]
    }
   ],
   "source": [
    "log_simulations = dict()\n",
    "\n",
    "for alpha in [0.1, 0.2]:\n",
    "    for rar in [0.9, 0.98]:\n",
    "        for radr in [0.9999, 0.999]:\n",
    "            for window in [10,15,20]:\n",
    "                log_simulations[(alpha, rar,radr,window)] = find_optimal_parameters.run_simulations(symbol = \"IBM\", \\\n",
    "                        sd_train = dt.datetime(2009,12,31), \\\n",
    "                        ed_train = dt.datetime(2011,12,31),\\\n",
    "                        sd_test = dt.datetime(2011,12,31),\\\n",
    "                        ed_test = dt.datetime(2013,12,31), \\\n",
    "                        sv =10000, \\\n",
    "                        alpha=alpha, \\\n",
    "                        rar=rar, \\\n",
    "                        radr=radr, \\\n",
    "                        window=window, \\\n",
    "                        num_simulation = 10,\\\n",
    "                        plot_results = False, \\\n",
    "                        verbose = False)\n",
    "                print \"Parameters (alpha, rar,radr,window):\", (alpha, rar,radr,window)\n",
    "                print \"cumulative_returns_train, cumulative_returns_test\",\\\n",
    "                        log_simulations[(alpha, rar,radr,window)]\n",
    "\n",
    "print log_simulations\n"
   ]
  },
  {
   "cell_type": "markdown",
   "metadata": {
    "collapsed": true
   },
   "source": [
    "Comments:\n",
    "Parameters (alpha, rar,radr,window): (0.1, 0.98, 0.9999, 15) seem to be the best combination given the two simulations."
   ]
  },
  {
   "cell_type": "code",
   "execution_count": null,
   "metadata": {
    "collapsed": true
   },
   "outputs": [],
   "source": []
  }
 ],
 "metadata": {
  "kernelspec": {
   "display_name": "Python 2",
   "language": "python",
   "name": "python2"
  },
  "language_info": {
   "codemirror_mode": {
    "name": "ipython",
    "version": 2
   },
   "file_extension": ".py",
   "mimetype": "text/x-python",
   "name": "python",
   "nbconvert_exporter": "python",
   "pygments_lexer": "ipython2",
   "version": "2.7.13"
  }
 },
 "nbformat": 4,
 "nbformat_minor": 0
}
